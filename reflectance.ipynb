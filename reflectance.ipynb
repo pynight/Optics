{
 "cells": [
  {
   "cell_type": "markdown",
   "id": "7386052c",
   "metadata": {},
   "source": [
    "## Power reflectance of a glass plate at normal incidence"
   ]
  },
  {
   "cell_type": "code",
   "execution_count": 1,
   "id": "55fef1da",
   "metadata": {},
   "outputs": [
    {
     "name": "stdout",
     "output_type": "stream",
     "text": [
      "Reflectance at the air/glass interface:\n",
      "         2\n",
      "(n₁ - n₂) \n",
      "──────────\n",
      "         2\n",
      "(n₁ + n₂) \n",
      "Reflectance air/glass/air - double:\n",
      "           ⎛                  2    ⎞\n",
      "           ⎜⎛           2    ⎞     ⎟\n",
      "         2 ⎜⎜  (n₁ - n₂)     ⎟     ⎟\n",
      "(n₁ - n₂) ⋅⎜⎜- ────────── + 1⎟  + 1⎟\n",
      "           ⎜⎜           2    ⎟     ⎟\n",
      "           ⎝⎝  (n₁ + n₂)     ⎠     ⎠\n",
      "────────────────────────────────────\n",
      "                      2             \n",
      "             (n₁ + n₂)              \n",
      "Plug n1=1, n2=1.5 into the above equation, the reflectance is 0.07686.\n",
      "Reflectance air/glass/air - infinity:\n",
      "  2               2\n",
      "n₁  - 2⋅n₁⋅n₂ + n₂ \n",
      "───────────────────\n",
      "       2     2     \n",
      "     n₁  + n₂      \n",
      "Plug n1=1, n2=1.5 into the above equation, the reflectance is 0.07692.\n",
      "Almost no difference between the above two equations to calculate the power reflectance at normal incidence.\n"
     ]
    }
   ],
   "source": [
    "from sympy import *\n",
    "\n",
    "n_air = 1\n",
    "n_glass = 1.5\n",
    "n1, n2 = symbols(\"n_1, n_2\")\n",
    "\n",
    "## reflectance at single surface\n",
    "R = ((n1-n2)/(n1+n2))**2\n",
    "print(\"Reflectance at the air/glass interface:\")\n",
    "pprint(simplify(R))\n",
    "\n",
    "## reflectance with the second reflected light\n",
    "# Saleh, Bahaa EA, and Malvin Carl Teich. Fundamentals of photonics. john Wiley & sons, 2019. [after Eq 6.2.17]\n",
    "R_double = R*(1+(1-R)**2)   \n",
    "r_double = R_double.subs({n1:n_air, n2:n_glass})\n",
    "print(\"Reflectance air/glass/air - double:\")\n",
    "pprint(R_double)\n",
    "print(f\"Plug n1=1, n2=1.5 into the above equation, the reflectance is {r_double:.5f}.\")\n",
    "\n",
    "## reflectance with infinity reflected light\n",
    "R_inf = R + R*(1-R)**2/(1-R**2)\n",
    "r_glass_plate = R_inf.subs({n1:n_air, n2:n_glass})\n",
    "print(\"Reflectance air/glass/air - infinity:\")\n",
    "pprint(simplify(R_inf))\n",
    "print(f\"Plug n1=1, n2=1.5 into the above equation, the reflectance is {r_glass_plate:.5f}.\")\n",
    "\n",
    "print(\"Almost no difference between the above two equations to calculate the power reflectance at normal incidence.\")"
   ]
  },
  {
   "cell_type": "code",
   "execution_count": null,
   "id": "019ac78a",
   "metadata": {},
   "outputs": [],
   "source": []
  }
 ],
 "metadata": {
  "kernelspec": {
   "display_name": "Python 3",
   "language": "python",
   "name": "python3"
  },
  "language_info": {
   "codemirror_mode": {
    "name": "ipython",
    "version": 3
   },
   "file_extension": ".py",
   "mimetype": "text/x-python",
   "name": "python",
   "nbconvert_exporter": "python",
   "pygments_lexer": "ipython3",
   "version": "3.8.5"
  }
 },
 "nbformat": 4,
 "nbformat_minor": 5
}
